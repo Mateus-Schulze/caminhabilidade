{
 "cells": [
  {
   "cell_type": "markdown",
   "id": "60c3597b-c227-4a5d-af4e-68cd31dd01c6",
   "metadata": {},
   "source": [
    "# **Amenidades**"
   ]
  },
  {
   "cell_type": "markdown",
   "id": "e757cac4-337f-4882-ad48-1efea25a382f",
   "metadata": {},
   "source": [
    "--- "
   ]
  },
  {
   "cell_type": "code",
   "execution_count": null,
   "id": "272d33f6-4dd1-43ee-b499-794681265c76",
   "metadata": {},
   "outputs": [],
   "source": [
    "import osmnx as ox\n",
    "import geopandas as gpd # apenas necessario para área\n",
    "\n",
    "ox.__version__"
   ]
  },
  {
   "cell_type": "code",
   "execution_count": null,
   "id": "292a2b8e-f079-48f7-93a3-51f2b596cc63",
   "metadata": {},
   "outputs": [],
   "source": [
    "neighborhood_info = {\n",
    "    \"Centro\",\n",
    "    \"Guadalupe\",\n",
    "    \"Frei Rogério\",\n",
    "    \"Sagrado Coração de Jesus\",\n",
    "    \"São Cristovão\"\n",
    "}"
   ]
  },
  {
   "cell_type": "code",
   "execution_count": null,
   "id": "67a7636b-6e08-4af2-90e0-750628cd53f9",
   "metadata": {},
   "outputs": [],
   "source": [
    "tags = {\"building\" : True}"
   ]
  },
  {
   "cell_type": "markdown",
   "id": "8e564750-27ad-412f-8115-a4f8ea3e5b78",
   "metadata": {},
   "source": [
    "### Quantidade"
   ]
  },
  {
   "cell_type": "code",
   "execution_count": null,
   "id": "63467f07-43f6-4718-b5db-8b399adf5ff4",
   "metadata": {},
   "outputs": [],
   "source": [
    "for name in neighborhood_info:\n",
    "    place_name = f\"{name}, Lages, Santa Catarina, Brazil\"\n",
    "    neighborhood = ox.features_from_place(place_name, tags=tags)\n",
    "    num_geometries = len(neighborhood)\n",
    "    print(f\"Numero de edificios no {name}: {num_geometries}\")"
   ]
  },
  {
   "cell_type": "markdown",
   "id": "5aa18da9-b842-4a50-8bb2-2a887a383dca",
   "metadata": {},
   "source": [
    "### Área"
   ]
  },
  {
   "cell_type": "code",
   "execution_count": null,
   "id": "1f45ba50-1b0e-4755-89d9-acc3eaab7a2d",
   "metadata": {},
   "outputs": [],
   "source": [
    "target_crs = \"EPSG:32722\"\n",
    "\n",
    "for name in neighborhood_info:\n",
    "    place_name = f\"{name}, Lages, Santa Catarina, Brazil\"\n",
    "    neighborhood = ox.features_from_place(place_name, tags=tags)\n",
    "    \n",
    "    gdf = gpd.GeoDataFrame(neighborhood)\n",
    "    gdf = gdf.to_crs(target_crs)\n",
    "\n",
    "    total_building_area = 0\n",
    "\n",
    "    for feature in gdf.iterrows():\n",
    "        geometry = feature[1][\"geometry\"]\n",
    "        building_area = geometry.area\n",
    "        total_building_area += building_area\n",
    "\n",
    "    print(f\"Total building area in {name}: {total_building_area:.2f} square meters\")"
   ]
  },
  {
   "cell_type": "code",
   "execution_count": null,
   "id": "d2b6ca39-8235-40ae-8640-b2e7201c6a5e",
   "metadata": {},
   "outputs": [],
   "source": [
    "# FOOTPRINTS\n",
    "tags = {\"building\" : True}\n",
    "# UNIDADES DE ENSINO\n",
    "tags = {\"amenity\" : [\"kindergarten\", \"school\", \"college\", \"university\"]}\n",
    "# UNIDADES DE SAÚDE\n",
    "tags = {\"amenity\" : [\"clinic\", \"dentist\", \"doctors\", \"hospital\", \"nursing_home\"]}\n",
    "# TEMPLOS\n",
    "tags = {\"buiilding\" : \n",
    "    [\"chapel\", \"church\", \"kingdom_hall\", \"monastery\", \"mosque\", \"presbytery\", \"religious\", \"shrine\", \"synagogue\", \"temple\"]}\n",
    "# EQUIPAMENTOS CULTURAIS\n",
    "tags = {\"amenity\": \n",
    "        [\"arts_centre\", \"brothel\", \"casino\", \"cinema\", \"community_centre\", \"conference_centre\",\n",
    "         \"events_venue\", \"exhibition_centre\", \"fountain\", \"gambling\", \"love_hotel\", \"music_venue\", \n",
    "         \"nightclub\", \"planetarium\", \"plubic_bookcase\", \"social_centre\", \"stripclub\", \"studio\",\n",
    "         \"swingerclub\", \"theatre\"]}\n",
    "# SUPERMERCADOS\n",
    "tags = {\"shop\" : \"supermarket\"}"
   ]
  }
 ],
 "metadata": {
  "kernelspec": {
   "display_name": "Python 3 (ipykernel)",
   "language": "python",
   "name": "python3"
  },
  "language_info": {
   "codemirror_mode": {
    "name": "ipython",
    "version": 3
   },
   "file_extension": ".py",
   "mimetype": "text/x-python",
   "name": "python",
   "nbconvert_exporter": "python",
   "pygments_lexer": "ipython3",
   "version": "3.11.4"
  }
 },
 "nbformat": 4,
 "nbformat_minor": 5
}
