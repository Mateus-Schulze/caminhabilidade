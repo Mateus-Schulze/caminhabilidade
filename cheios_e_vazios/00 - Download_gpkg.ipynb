{
 "cells": [
  {
   "cell_type": "code",
   "execution_count": 1,
   "id": "dea51d27-6942-4f11-9bc8-592965be3230",
   "metadata": {},
   "outputs": [
    {
     "data": {
      "text/plain": [
       "'1.6.0'"
      ]
     },
     "execution_count": 1,
     "metadata": {},
     "output_type": "execute_result"
    }
   ],
   "source": [
    "import osmnx as ox\n",
    "\n",
    "ox.__version__"
   ]
  },
  {
   "cell_type": "code",
   "execution_count": 3,
   "id": "c01512da-0142-4e67-98bc-4487deccd52d",
   "metadata": {},
   "outputs": [],
   "source": [
    "neighborhood_info = {\n",
    "    \"Centro\": \"Lages, Santa Catarina, Brazil\",\n",
    "    \"Guadalupe\": \"Lages, Santa Catarina, Brazil\",\n",
    "    \"Frei Rogério\": \"Lages, Santa Catarina, Brazil\",\n",
    "    \"Sagrado Coração de Jesus\": \"Lages, Santa Catarina, Brazil\",\n",
    "    \"São Cristovão\": \"Lages, Santa Catarina, Brazil\"\n",
    "}"
   ]
  },
  {
   "cell_type": "code",
   "execution_count": 4,
   "id": "673bd971-de77-4a1d-a16a-ea8cbdf0dd94",
   "metadata": {},
   "outputs": [],
   "source": [
    "for place_name, location_info in neighborhood_info.items():\n",
    "    full_place_name = f\"{place_name}, {location_info}\"\n",
    "    graph = ox.graph_from_place(full_place_name)\n",
    "    filename = f\"{place_name}.gpkg\"\n",
    "    ox.save_graph_geopackage(graph, filepath=filename)\n"
   ]
  },
  {
   "cell_type": "code",
   "execution_count": null,
   "id": "2b674a17-e632-402f-9db3-7cf4a7221c48",
   "metadata": {},
   "outputs": [],
   "source": [
    "neighborhood_info = {\n",
    "    \"Centro\",\n",
    "    \"Guadalupe\",\n",
    "    \"Frei Rogério\",\n",
    "    \"Sagrado Coração de Jesus\",\n",
    "    \"São Cristovão\"\n",
    "}\n",
    "for name in neighborhood_info:\n",
    "    place_name = f\"{name}, Lages, Santa Catarina, Brasil\"\n",
    "    for place_name in place_names:\n",
    "        graph = ox.graph_from_place(place_name)\n",
    "        filename = place_name.replace(\", \", \"_\").replace(\" \", \"_\") + \".gpkg\"\n",
    "        ox.save_graph_geopackage(graph, filepath=filename) "
   ]
  }
 ],
 "metadata": {
  "kernelspec": {
   "display_name": "Python 3 (ipykernel)",
   "language": "python",
   "name": "python3"
  },
  "language_info": {
   "codemirror_mode": {
    "name": "ipython",
    "version": 3
   },
   "file_extension": ".py",
   "mimetype": "text/x-python",
   "name": "python",
   "nbconvert_exporter": "python",
   "pygments_lexer": "ipython3",
   "version": "3.11.5"
  }
 },
 "nbformat": 4,
 "nbformat_minor": 5
}
